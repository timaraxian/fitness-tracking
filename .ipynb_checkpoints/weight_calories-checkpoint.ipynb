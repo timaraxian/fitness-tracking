{
 "cells": [
  {
   "cell_type": "code",
   "execution_count": null,
   "metadata": {},
   "outputs": [],
   "source": [
    "import pandas as pd\n",
    "import matplotlib.pyplot as plt\n",
    "%matplotlib inline\n",
    "from dateutil.relativedelta import relativedelta"
   ]
  },
  {
   "cell_type": "code",
   "execution_count": null,
   "metadata": {},
   "outputs": [],
   "source": [
    "date_of_birth = pd.datetime(1994,1,18)\n",
    "height = 186\n",
    "sex = 'm'\n",
    "exercise_level = 2"
   ]
  },
  {
   "cell_type": "code",
   "execution_count": null,
   "metadata": {},
   "outputs": [],
   "source": [
    "df_calories = pd.read_csv('calories.csv', parse_dates=['ts'])"
   ]
  },
  {
   "cell_type": "code",
   "execution_count": null,
   "metadata": {},
   "outputs": [],
   "source": [
    "df_calories.tail()"
   ]
  },
  {
   "cell_type": "code",
   "execution_count": null,
   "metadata": {},
   "outputs": [],
   "source": [
    "df_weight = pd.read_csv('weight.csv', parse_dates=['ts'])\n",
    "df_weight['weight_avg'] = pd.np.average(df_weight[['weight_am', 'weight_pm']], axis=1)\n",
    "df_weight = df_weight.set_index('ts')"
   ]
  },
  {
   "cell_type": "code",
   "execution_count": null,
   "metadata": {},
   "outputs": [],
   "source": [
    "df_weight.tail()"
   ]
  },
  {
   "cell_type": "code",
   "execution_count": null,
   "metadata": {},
   "outputs": [],
   "source": [
    "df_calories_daily = df_calories.groupby(pd.Grouper(freq='D', key='ts')).agg({'calories': 'sum'}).reset_index()\n",
    "df_calories_daily['age'] = df_calories_daily.apply(lambda row: relativedelta(row.ts, date_of_birth).years, axis=1)\n",
    "df_calories_daily = df_calories_daily.set_index('ts')\n",
    "df_calories_daily.tail()"
   ]
  },
  {
   "cell_type": "code",
   "execution_count": null,
   "metadata": {},
   "outputs": [],
   "source": [
    "df_calories_weight = df_calories_daily\n",
    "df_calories_weight['weight'] = df_weight['weight_avg']\n",
    "df_calories_weight['bodyfat'] = df_weight['bodyfat']"
   ]
  },
  {
   "cell_type": "code",
   "execution_count": null,
   "metadata": {},
   "outputs": [],
   "source": [
    "def daily_maintenance_rate(age,height,weight,sex,bodyfat,exercise_level): \n",
    "    exercise_factor = (1.2+exercise_level*0.175)\n",
    "    \n",
    "    if bodyfat:\n",
    "        return 370+(21.6*(weight*1-bodyfat/100))*exercise_factor\n",
    "    \n",
    "    s = 5\n",
    "    if sex != \"m\": s = -161\n",
    "    \n",
    "    mifflin = 10*weight+6.25*height-5*age + s\n",
    "    \n",
    "    return mifflin*exercise_factor"
   ]
  },
  {
   "cell_type": "code",
   "execution_count": null,
   "metadata": {},
   "outputs": [],
   "source": [
    "df_calories_weight['tdee'] = df_calories_weight.apply(lambda row: daily_maintenance_rate(row.age,height,row.weight,sex,row.bodyfat,exercise_level), axis=1)"
   ]
  },
  {
   "cell_type": "code",
   "execution_count": null,
   "metadata": {},
   "outputs": [],
   "source": [
    "df_calories_weight['deficit'] = df_calories_weight['tdee'] - df_calories_weight['calories']\n",
    "df_calories_weight['deficit_cumsum'] = df_calories_weight['deficit'].cumsum()\n",
    "\n",
    "df_calories_weight['planned_deficit'] = 500\n",
    "df_calories_weight['planned_deficit_cumsum'] = df_calories_weight['planned_deficit'].cumsum()\n",
    "\n",
    "df_calories_weight['deficit_mean'] = df_calories_weight['deficit'].expanding().mean()"
   ]
  },
  {
   "cell_type": "code",
   "execution_count": null,
   "metadata": {},
   "outputs": [],
   "source": [
    "df_calories_weight[['planned_deficit', 'deficit', 'deficit_mean']].plot(grid=True,figsize=(16,8))\n",
    "plt.show()"
   ]
  },
  {
   "cell_type": "code",
   "execution_count": null,
   "metadata": {},
   "outputs": [],
   "source": [
    "df_calories_weight[['planned_deficit_cumsum', 'deficit_cumsum']].plot(grid=True,figsize=(16,8))\n",
    "plt.show()"
   ]
  },
  {
   "cell_type": "code",
   "execution_count": null,
   "metadata": {},
   "outputs": [],
   "source": [
    "df_calories_weight['expected_weight'] = df_calories_weight['weight'].iloc[0] - df_calories_weight['deficit_cumsum']/3500*0.45"
   ]
  },
  {
   "cell_type": "code",
   "execution_count": null,
   "metadata": {},
   "outputs": [],
   "source": [
    "df_calories_weight[['expected_weight', 'weight']].plot(grid=True,figsize=(16,8))\n",
    "plt.show()"
   ]
  }
 ],
 "metadata": {
  "kernelspec": {
   "display_name": "Python 3",
   "language": "python",
   "name": "python3"
  },
  "language_info": {
   "codemirror_mode": {
    "name": "ipython",
    "version": 3
   },
   "file_extension": ".py",
   "mimetype": "text/x-python",
   "name": "python",
   "nbconvert_exporter": "python",
   "pygments_lexer": "ipython3",
   "version": "3.6.4"
  }
 },
 "nbformat": 4,
 "nbformat_minor": 2
}
