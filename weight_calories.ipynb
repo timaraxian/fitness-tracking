{
 "cells": [
  {
   "cell_type": "code",
   "execution_count": null,
   "metadata": {},
   "outputs": [],
   "source": [
    "import pandas as pd\n",
    "import matplotlib.pyplot as plt\n",
    "%matplotlib inline\n",
    "from dateutil.relativedelta import relativedelta"
   ]
  },
  {
   "cell_type": "code",
   "execution_count": null,
   "metadata": {},
   "outputs": [],
   "source": [
    "date_of_birth = pd.datetime(1994,1,18)\n",
    "height = 186\n",
    "sex = 'm'\n",
    "exercise_level = 2\n",
    "fill_missing_dates = False\n",
    "calories_path = 'personal/calories.csv'\n",
    "weight_path = 'personal/weight.csv'\n",
    "use_bodyfat = True"
   ]
  },
  {
   "cell_type": "code",
   "execution_count": null,
   "metadata": {},
   "outputs": [],
   "source": [
    "df_calories = pd.read_csv(calories_path, parse_dates=['ts'])"
   ]
  },
  {
   "cell_type": "code",
   "execution_count": null,
   "metadata": {},
   "outputs": [],
   "source": [
    "df_calories.tail()"
   ]
  },
  {
   "cell_type": "code",
   "execution_count": null,
   "metadata": {},
   "outputs": [],
   "source": [
    "df_weight = pd.read_csv(weight_path, parse_dates=['ts'])\n",
    "df_weight['weight_avg'] = pd.np.nanmean(df_weight[['weight_am', 'weight_pm']], axis=1)\n",
    "df_weight['bodyfat'] = df_weight['bodyfat'].fillna(method='ffill')\n",
    "df_weight = df_weight.set_index('ts')"
   ]
  },
  {
   "cell_type": "code",
   "execution_count": null,
   "metadata": {},
   "outputs": [],
   "source": [
    "df_weight.tail()"
   ]
  },
  {
   "cell_type": "code",
   "execution_count": null,
   "metadata": {},
   "outputs": [],
   "source": [
    "df_calories_daily = df_calories.groupby(pd.Grouper(freq='D', key='ts')).agg({'calories': 'sum'}).reset_index()\n",
    "df_calories_daily['age'] = df_calories_daily.apply(lambda row: relativedelta(row.ts, date_of_birth).years, axis=1)\n",
    "df_calories_daily = df_calories_daily.set_index('ts')\n",
    "df_calories_daily.tail()"
   ]
  },
  {
   "cell_type": "code",
   "execution_count": null,
   "metadata": {},
   "outputs": [],
   "source": [
    "df_calories_weight = df_calories_daily\n",
    "df_calories_weight['weight'] = df_weight['weight_avg']\n",
    "df_calories_weight['bodyfat'] = df_weight['bodyfat']"
   ]
  },
  {
   "cell_type": "code",
   "execution_count": null,
   "metadata": {},
   "outputs": [],
   "source": [
    "exercise_factor = (1.2+exercise_level*0.175)\n",
    "\n",
    "def daily_maintenance_rate_bodyfat(weight,bodyfat): \n",
    "        return 370+(21.6*(weight*1-(bodyfat/100)))*exercise_factor\n",
    "\n",
    "def daily_maintenance_rate_mifflin(sex,weight,height,age):\n",
    "    s = 5\n",
    "    if sex != \"m\": s = -161\n",
    "    \n",
    "    return (10*weight+6.25*height-5*age + s)*exercise_factor"
   ]
  },
  {
   "cell_type": "code",
   "execution_count": null,
   "metadata": {},
   "outputs": [],
   "source": [
    "if use_bodyfat:\n",
    "    df_calories_weight['tdee_bodyfat'] = df_calories_weight.apply(lambda row: daily_maintenance_rate_bodyfat(row.weight,row.bodyfat), axis=1)\n",
    "        \n",
    "df_calories_weight['tdee'] = df_calories_weight.apply(lambda row: daily_maintenance_rate_mifflin(sex,row.weight,height,row.age), axis=1)"
   ]
  },
  {
   "cell_type": "code",
   "execution_count": null,
   "metadata": {},
   "outputs": [],
   "source": [
    "if fill_missing_dates:\n",
    "    df_calories_weight['tdee'] = df_calories_weight['tdee'].interpolate(method=\"linear\")\n",
    "    df_calories_weight['tdee_bodyfat'] = df_calories_weight['tdee_bodyfat'].interpolate(method=\"linear\")\n",
    "    df_calories_weight['calories'] = df_calories_weight['calories'].replace(0, pd.np.nan).interpolate(method=\"linear\")\n",
    "    df_calories_weight['weight'] = df_calories_weight['weight'].interpolate(method=\"linear\")\n",
    "    df_calories_weight['bodyfat'] = df_calories_weight['bodyfat'].interpolate(method=\"linear\")"
   ]
  },
  {
   "cell_type": "code",
   "execution_count": null,
   "metadata": {},
   "outputs": [],
   "source": [
    "df_calories_weight['deficit'] = df_calories_weight['tdee'] - df_calories_weight['calories']\n",
    "df_calories_weight['deficit_cumsum'] = df_calories_weight['deficit'].cumsum()\n",
    "df_calories_weight['deficit_mean'] = df_calories_weight['deficit'].expanding().mean()\n",
    "\n",
    "if use_bodyfat:\n",
    "    df_calories_weight['deficit_bodyfat'] = df_calories_weight['tdee_bodyfat'] - df_calories_weight['calories']\n",
    "    df_calories_weight['deficit_bodyfat_cumsum'] = df_calories_weight['deficit_bodyfat'].cumsum()\n",
    "    df_calories_weight['deficit_bodyfat_mean'] = df_calories_weight['deficit_bodyfat'].expanding().mean()"
   ]
  },
  {
   "cell_type": "code",
   "execution_count": null,
   "metadata": {},
   "outputs": [],
   "source": [
    "cols_deficit = ['deficit', 'deficit_mean']\n",
    "\n",
    "if use_bodyfat:\n",
    "    cols_deficit += ['deficit_bodyfat', 'deficit_bodyfat_mean']\n",
    "\n",
    "df_calories_weight[cols_deficit].dropna().plot(grid=True,figsize=(16,8), style=\".-\")\n",
    "plt.show()"
   ]
  },
  {
   "cell_type": "code",
   "execution_count": null,
   "metadata": {},
   "outputs": [],
   "source": [
    "cols_cumsum = ['planned_deficit_cumsum', 'deficit_cumsum']\n",
    "\n",
    "if use_bodyfat:\n",
    "    cols_cumsum += ['deficit_bodyfat_cumsum']\n",
    "\n",
    "df_calories_weight[cols_cumsum].dropna().plot(grid=True,figsize=(16,8), style=\".-\")\n",
    "plt.show()"
   ]
  },
  {
   "cell_type": "code",
   "execution_count": null,
   "metadata": {},
   "outputs": [],
   "source": [
    "df_calories_weight['expected_weight'] = df_calories_weight['weight'].iloc[0] - df_calories_weight['deficit_cumsum']/3500*0.45\n",
    "\n",
    "if use_bodyfat:\n",
    "    df_calories_weight['expected_weight_bodyfat'] = df_calories_weight['weight'].iloc[0] - df_calories_weight['deficit_bodyfat_cumsum']/3500*0.45\n",
    "\n",
    "df_calories_weight['planned_weight'] = df_calories_weight['weight'].iloc[0] - df_calories_weight['planned_deficit_cumsum']/3500*0.45"
   ]
  },
  {
   "cell_type": "code",
   "execution_count": null,
   "metadata": {},
   "outputs": [],
   "source": [
    "cols_weight = ['weight', 'planned_weight', 'expected_weight']\n",
    "\n",
    "if use_bodyfat:\n",
    "    cols_weight += ['expected_weight_bodyfat']\n",
    "\n",
    "df_calories_weight[cols_weight].dropna().plot(grid=True,figsize=(16,8), style='.-')\n",
    "plt.show()"
   ]
  }
 ],
 "metadata": {
  "kernelspec": {
   "display_name": "Python 3",
   "language": "python",
   "name": "python3"
  },
  "language_info": {
   "codemirror_mode": {
    "name": "ipython",
    "version": 3
   },
   "file_extension": ".py",
   "mimetype": "text/x-python",
   "name": "python",
   "nbconvert_exporter": "python",
   "pygments_lexer": "ipython3",
   "version": "3.7.3"
  }
 },
 "nbformat": 4,
 "nbformat_minor": 2
}
